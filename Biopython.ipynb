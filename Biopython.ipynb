{
 "cells": [
  {
   "cell_type": "markdown",
   "id": "2d903b2d-dc12-4c3f-8db6-edd101cf36a9",
   "metadata": {},
   "source": [
    "### Advanced Biopython Learning Guide (Jupyter Notebook Format)"
   ]
  },
  {
   "cell_type": "code",
   "execution_count": 1,
   "id": "907acaac-bb8b-49c6-9ebc-4794cad0ee5c",
   "metadata": {},
   "outputs": [
    {
     "name": "stderr",
     "output_type": "stream",
     "text": [
      "/home/toni/.local/pipx/venvs/jupyterlab/lib/python3.11/site-packages/Bio/Application/__init__.py:39: BiopythonDeprecationWarning: The Bio.Application modules and modules relying on it have been deprecated.\n",
      "\n",
      "Due to the on going maintenance burden of keeping command line application\n",
      "wrappers up to date, we have decided to deprecate and eventually remove these\n",
      "modules.\n",
      "\n",
      "We instead now recommend building your command line and invoking it directly\n",
      "with the subprocess module.\n",
      "  warnings.warn(\n"
     ]
    }
   ],
   "source": [
    "from Bio import SeqIO\n",
    "from Bio.Seq import Seq\n",
    "from Bio.SeqUtils import gc_fraction\n",
    "from Bio.Blast import NCBIWWW, NCBIXML\n",
    "from Bio.Align import MultipleSeqAlignment\n",
    "from Bio.Align.Applications import ClustalwCommandline\n",
    "import matplotlib.pyplot as plt"
   ]
  },
  {
   "cell_type": "markdown",
   "id": "f3edc73a-f82e-4d71-9469-4aab330141f4",
   "metadata": {},
   "source": [
    "## 1. Working with DNA Sequences"
   ]
  },
  {
   "cell_type": "code",
   "execution_count": 2,
   "id": "67de12e6-e013-42ae-9805-e72e17e16983",
   "metadata": {},
   "outputs": [
    {
     "name": "stdout",
     "output_type": "stream",
     "text": [
      "--- DNA Sequence Operations ---\n",
      "Original DNA: ATGCTAGCTAGCTAGCTAGCTAGC\n",
      "Complement: TACGATCGATCGATCGATCGATCG\n",
      "Reverse Complement: GCTAGCTAGCTAGCTAGCTAGCAT\n",
      "GC Content: 50.0\n"
     ]
    }
   ],
   "source": [
    "print(\"--- DNA Sequence Operations ---\")\n",
    "dna_seq = Seq(\"ATGCTAGCTAGCTAGCTAGCTAGC\")\n",
    "print(\"Original DNA:\", dna_seq)\n",
    "print(\"Complement:\", dna_seq.complement())\n",
    "print(\"Reverse Complement:\", dna_seq.reverse_complement())\n",
    "print(\"GC Content:\", gc_fraction(dna_seq) * 100)"
   ]
  },
  {
   "cell_type": "markdown",
   "id": "7d79ca6f-5ac0-46c5-8105-7bc9ec49a265",
   "metadata": {},
   "source": [
    "## 2. Reading and Writing FASTA Files"
   ]
  },
  {
   "cell_type": "code",
   "execution_count": 3,
   "id": "07dba8a2-b636-4e1a-8590-889c560a51c0",
   "metadata": {},
   "outputs": [
    {
     "name": "stdout",
     "output_type": "stream",
     "text": [
      "\n",
      "--- Reading FASTA File ---\n",
      "ID: seq1\n",
      "Sequence: ATGCGTACGTAGCTAGCTAGCTAGCTAGCTAGC ...\n",
      "Sequence Length: 33\n",
      "ID: seq2\n",
      "Sequence: GCTAGCTAGCTAGCATCGATCGATCGATCGATC ...\n",
      "Sequence Length: 33\n",
      "ID: seq3\n",
      "Sequence: TCGATCGATCGATCGATCGATCGATCGATCGAT ...\n",
      "Sequence Length: 33\n"
     ]
    }
   ],
   "source": [
    "print(\"\\n--- Reading FASTA File ---\")\n",
    "for record in SeqIO.parse(\"example.fasta\", \"fasta\"):\n",
    "    print(\"ID:\", record.id)\n",
    "    print(\"Sequence:\", record.seq[:50], \"...\")  # Show first 50 bases\n",
    "    print(\"Sequence Length:\", len(record.seq))"
   ]
  },
  {
   "cell_type": "markdown",
   "id": "c3676dd5-5bbe-4f6b-bc2c-1f0ae33e4a0b",
   "metadata": {},
   "source": [
    "## 3. Translating DNA to Protein"
   ]
  },
  {
   "cell_type": "code",
   "execution_count": 4,
   "id": "6ac2b5a0-e4ad-4fbf-b1f3-82a768c19ac8",
   "metadata": {},
   "outputs": [
    {
     "name": "stdout",
     "output_type": "stream",
     "text": [
      "\n",
      "--- Translating DNA to Protein ---\n",
      "mRNA Sequence: AUGCUAGCUAGCUAGCUAGCUAGC\n",
      "Protein Sequence: MLAS*LAS\n"
     ]
    }
   ],
   "source": [
    "print(\"\\n--- Translating DNA to Protein ---\")\n",
    "mrna_seq = dna_seq.transcribe()\n",
    "protein_seq = dna_seq.translate()\n",
    "print(\"mRNA Sequence:\", mrna_seq)\n",
    "print(\"Protein Sequence:\", protein_seq)"
   ]
  },
  {
   "cell_type": "markdown",
   "id": "52a5630d-48a5-426f-a13a-d6c2493ad1cd",
   "metadata": {},
   "source": [
    "## 4. Running a BLAST Search"
   ]
  },
  {
   "cell_type": "code",
   "execution_count": 5,
   "id": "e8752503-2427-4855-8f66-42230114efd8",
   "metadata": {},
   "outputs": [
    {
     "name": "stdout",
     "output_type": "stream",
     "text": [
      "\n",
      "--- Running BLAST Search ---\n"
     ]
    }
   ],
   "source": [
    "print(\"\\n--- Running BLAST Search ---\")\n",
    "result_handle = NCBIWWW.qblast(\"blastn\", \"nt\", dna_seq)\n",
    "blast_record = NCBIXML.read(result_handle)\n",
    "for alignment in blast_record.alignments[:5]:  # Show top 5 hits\n",
    "    print(\"Alignment:\", alignment.title)\n",
    "    print(\"Length:\", alignment.length)"
   ]
  },
  {
   "cell_type": "markdown",
   "id": "b80f1ac5-64fa-4fe4-952f-30b6410cca2a",
   "metadata": {},
   "source": [
    "## 5. Restriction Enzyme Analysis"
   ]
  },
  {
   "cell_type": "code",
   "execution_count": 6,
   "id": "014ec89f-7940-4578-8e46-d549153c7060",
   "metadata": {},
   "outputs": [
    {
     "name": "stdout",
     "output_type": "stream",
     "text": [
      "\n",
      "--- Restriction Enzyme Analysis ---\n",
      "EcoRI cuts at positions: []\n",
      "HindIII cuts at positions: []\n",
      "BamHI cuts at positions: []\n"
     ]
    }
   ],
   "source": [
    "from Bio.Restriction import RestrictionBatch\n",
    "\n",
    "print(\"\\n--- Restriction Enzyme Analysis ---\")\n",
    "enzymes = RestrictionBatch([\"EcoRI\", \"BamHI\", \"HindIII\"])\n",
    "sites = enzymes.search(dna_seq)\n",
    "for enzyme, positions in sites.items():\n",
    "    print(f\"{enzyme} cuts at positions: {positions}\")"
   ]
  },
  {
   "cell_type": "markdown",
   "id": "05365662-5132-4c10-a22f-7a7c931a0474",
   "metadata": {},
   "source": [
    "## 6. Multiple Sequence Alignment"
   ]
  },
  {
   "cell_type": "code",
   "execution_count": 7,
   "id": "3121738e-80c7-4c4e-b9d0-f92cf4e73e75",
   "metadata": {},
   "outputs": [
    {
     "name": "stdout",
     "output_type": "stream",
     "text": [
      "\n",
      "--- Multiple Sequence Alignment ---\n"
     ]
    },
    {
     "name": "stderr",
     "output_type": "stream",
     "text": [
      "/home/toni/.local/pipx/venvs/jupyterlab/lib/python3.11/site-packages/Bio/SeqIO/FastaIO.py:203: BiopythonDeprecationWarning: Previously, the FASTA parser silently ignored comments at the beginning of the FASTA file (before the first sequence).\n",
      "\n",
      "Nowadays, the FASTA file format is usually understood not to have any such comments, and most software packages do not allow them. Therefore, the use of comments at the beginning of a FASTA file is now deprecated in Biopython.\n",
      "\n",
      "In a future Biopython release, this deprecation warning will be replaced by a ValueError. To avoid this, there are three options:\n",
      "\n",
      "(1) Modify your FASTA file to remove such comments at the beginning of the file.\n",
      "\n",
      "(2) Use SeqIO.parse with the 'fasta-pearson' format instead of 'fasta'. This format is consistent with the FASTA format defined by William Pearson's FASTA aligner software. Thie format allows for comments before the first sequence; lines starting with the ';' character anywhere in the file are also regarded as comment lines and are ignored.\n",
      "\n",
      "(3) Use the 'fasta-blast' format. This format regards any lines starting with '!', '#', or ';' as comment lines. The 'fasta-blast' format may be safer than the 'fasta-pearson' format, as it explicitly indicates which lines are comments. \n",
      "  warnings.warn(\n"
     ]
    },
    {
     "ename": "ValueError",
     "evalue": "No records found in handle",
     "output_type": "error",
     "traceback": [
      "\u001b[31m---------------------------------------------------------------------------\u001b[39m",
      "\u001b[31mValueError\u001b[39m                                Traceback (most recent call last)",
      "\u001b[36mCell\u001b[39m\u001b[36m \u001b[39m\u001b[32mIn[7]\u001b[39m\u001b[32m, line 3\u001b[39m\n\u001b[32m      1\u001b[39m \u001b[38;5;28mprint\u001b[39m(\u001b[33m\"\u001b[39m\u001b[38;5;130;01m\\n\u001b[39;00m\u001b[33m--- Multiple Sequence Alignment ---\u001b[39m\u001b[33m\"\u001b[39m)\n\u001b[32m      2\u001b[39m alignment = MultipleSeqAlignment([\n\u001b[32m----> \u001b[39m\u001b[32m3\u001b[39m     \u001b[43mSeqIO\u001b[49m\u001b[43m.\u001b[49m\u001b[43mread\u001b[49m\u001b[43m(\u001b[49m\u001b[33;43m\"\u001b[39;49m\u001b[33;43mseq1.fasta\u001b[39;49m\u001b[33;43m\"\u001b[39;49m\u001b[43m,\u001b[49m\u001b[43m \u001b[49m\u001b[33;43m\"\u001b[39;49m\u001b[33;43mfasta\u001b[39;49m\u001b[33;43m\"\u001b[39;49m\u001b[43m)\u001b[49m,\n\u001b[32m      4\u001b[39m     SeqIO.read(\u001b[33m\"\u001b[39m\u001b[33mseq2.fasta\u001b[39m\u001b[33m\"\u001b[39m, \u001b[33m\"\u001b[39m\u001b[33mfasta\u001b[39m\u001b[33m\"\u001b[39m),\n\u001b[32m      5\u001b[39m     SeqIO.read(\u001b[33m\"\u001b[39m\u001b[33mseq3.fasta\u001b[39m\u001b[33m\"\u001b[39m, \u001b[33m\"\u001b[39m\u001b[33mfasta\u001b[39m\u001b[33m\"\u001b[39m)\n\u001b[32m      6\u001b[39m ])\n\u001b[32m      7\u001b[39m \u001b[38;5;28mprint\u001b[39m(alignment)\n\u001b[32m      9\u001b[39m \u001b[38;5;66;03m# Running ClustalW (example, requires ClustalW installed)\u001b[39;00m\n\u001b[32m     10\u001b[39m \u001b[38;5;66;03m# clustalw_cline = ClustalwCommandline(\"clustalw2\", infile=\"example.fasta\")\u001b[39;00m\n\u001b[32m     11\u001b[39m \u001b[38;5;66;03m# stdout, stderr = clustalw_cline()\u001b[39;00m\n",
      "\u001b[36mFile \u001b[39m\u001b[32m~/.local/pipx/venvs/jupyterlab/lib/python3.11/site-packages/Bio/SeqIO/__init__.py:691\u001b[39m, in \u001b[36mread\u001b[39m\u001b[34m(handle, format, alphabet)\u001b[39m\n\u001b[32m    689\u001b[39m     record = \u001b[38;5;28mnext\u001b[39m(records)\n\u001b[32m    690\u001b[39m \u001b[38;5;28;01mexcept\u001b[39;00m \u001b[38;5;167;01mStopIteration\u001b[39;00m:\n\u001b[32m--> \u001b[39m\u001b[32m691\u001b[39m     \u001b[38;5;28;01mraise\u001b[39;00m \u001b[38;5;167;01mValueError\u001b[39;00m(\u001b[33m\"\u001b[39m\u001b[33mNo records found in handle\u001b[39m\u001b[33m\"\u001b[39m) \u001b[38;5;28;01mfrom\u001b[39;00m\u001b[38;5;250m \u001b[39m\u001b[38;5;28;01mNone\u001b[39;00m\n\u001b[32m    692\u001b[39m \u001b[38;5;28;01mtry\u001b[39;00m:\n\u001b[32m    693\u001b[39m     \u001b[38;5;28mnext\u001b[39m(records)\n",
      "\u001b[31mValueError\u001b[39m: No records found in handle"
     ]
    }
   ],
   "source": [
    "print(\"\\n--- Multiple Sequence Alignment ---\")\n",
    "alignment = MultipleSeqAlignment([\n",
    "    SeqIO.read(\"seq1.fasta\", \"fasta\"),\n",
    "    SeqIO.read(\"seq2.fasta\", \"fasta\"),\n",
    "    SeqIO.read(\"seq3.fasta\", \"fasta\")\n",
    "])\n",
    "print(alignment)\n",
    "\n",
    "# Running ClustalW (example, requires ClustalW installed)\n",
    "# clustalw_cline = ClustalwCommandline(\"clustalw2\", infile=\"example.fasta\")\n",
    "# stdout, stderr = clustalw_cline()"
   ]
  },
  {
   "cell_type": "markdown",
   "id": "32582041-2ab0-4eba-b307-7432e0268039",
   "metadata": {},
   "source": [
    "## 7. Genomic Data Visualization"
   ]
  },
  {
   "cell_type": "code",
   "execution_count": null,
   "id": "574c03de-e04d-41d0-be0b-700f8e04f4c5",
   "metadata": {},
   "outputs": [],
   "source": [
    "print(\"\\n--- Genomic Data Visualization ---\")\n",
    "genes = ['Gene1', 'Gene2', 'Gene3', 'Gene4', 'Gene5']\n",
    "expression_levels = [23, 45, 12, 30, 18]\n",
    "plt.bar(genes, expression_levels, color=['blue', 'red', 'green', 'purple', 'orange'])\n",
    "plt.xlabel('Genes')\n",
    "plt.ylabel('Expression Level')\n",
    "plt.title('Gene Expression Levels')\n",
    "plt.show()"
   ]
  }
 ],
 "metadata": {
  "kernelspec": {
   "display_name": "Python 3 (ipykernel)",
   "language": "python",
   "name": "python3"
  },
  "language_info": {
   "codemirror_mode": {
    "name": "ipython",
    "version": 3
   },
   "file_extension": ".py",
   "mimetype": "text/x-python",
   "name": "python",
   "nbconvert_exporter": "python",
   "pygments_lexer": "ipython3",
   "version": "3.11.2"
  }
 },
 "nbformat": 4,
 "nbformat_minor": 5
}
