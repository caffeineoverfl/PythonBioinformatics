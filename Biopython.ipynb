{
 "cells": [
  {
   "cell_type": "markdown",
   "id": "2d903b2d-dc12-4c3f-8db6-edd101cf36a9",
   "metadata": {},
   "source": [
    "### Advanced Biopython Learning Guide (Jupyter Notebook Format)"
   ]
  },
  {
   "cell_type": "code",
   "id": "907acaac-bb8b-49c6-9ebc-4794cad0ee5c",
   "metadata": {
    "ExecuteTime": {
     "end_time": "2025-03-31T21:55:27.140953Z",
     "start_time": "2025-03-31T21:55:26.360374Z"
    }
   },
   "source": [
    "from Bio import SeqIO\n",
    "from Bio.Seq import Seq\n",
    "from Bio.SeqUtils import gc_fraction\n",
    "from Bio.Blast import NCBIWWW, NCBIXML\n",
    "from Bio.Align import MultipleSeqAlignment\n",
    "from Bio.Align.Applications import ClustalwCommandline\n",
    "import matplotlib.pyplot as plt\n",
    "\n",
    "# DARK COLORS\n",
    "# TEXT_COLOR = \"white\"\n",
    "# BG_COLOR = \"black\"\n",
    "#\n",
    "# plt.rcParams[\"axes.facecolor\"] = plt.rcParams[\"figure.facecolor\"] = BG_COLOR\n",
    "# plt.rcParams[\"text.color\"] = TEXT_COLOR\n",
    "# plt.rcParams[\"axes.labelcolor\"] = TEXT_COLOR\n",
    "# plt.rcParams[\"xtick.color\"] = TEXT_COLOR\n",
    "# plt.rcParams[\"ytick.color\"] = TEXT_COLOR\n",
    "# plt.rcParams.update({\n",
    "# \t\"axes.grid\" : True,\n",
    "# \t\"grid.color\": \"green\",\n",
    "# \t\"grid.alpha\": 0.35,\n",
    "# \t\"grid.linestyle\": (0, (10, 10)),\n",
    "# })\n",
    "#\n",
    "# # BETTER SIZES\n",
    "# DEFAULT_W, DEFAULT_H = (16, 9)\n",
    "# plt.rcParams[\"figure.figsize\"] = [DEFAULT_W, DEFAULT_H]\n",
    "# plt.rcParams[\"font.size\"] = 14\n",
    "# plt.rcParams[\"figure.dpi\"] = 90"
   ],
   "outputs": [
    {
     "name": "stderr",
     "output_type": "stream",
     "text": [
      "/home/toni/miniconda3/envs/workspace/lib/python3.12/site-packages/Bio/Application/__init__.py:39: BiopythonDeprecationWarning: The Bio.Application modules and modules relying on it have been deprecated.\n",
      "\n",
      "Due to the on going maintenance burden of keeping command line application\n",
      "wrappers up to date, we have decided to deprecate and eventually remove these\n",
      "modules.\n",
      "\n",
      "We instead now recommend building your command line and invoking it directly\n",
      "with the subprocess module.\n",
      "  warnings.warn(\n"
     ]
    }
   ],
   "execution_count": 1
  },
  {
   "cell_type": "markdown",
   "id": "f3edc73a-f82e-4d71-9469-4aab330141f4",
   "metadata": {},
   "source": [
    "## 1. Working with DNA Sequences"
   ]
  },
  {
   "cell_type": "code",
   "id": "67de12e6-e013-42ae-9805-e72e17e16983",
   "metadata": {
    "ExecuteTime": {
     "end_time": "2025-03-31T21:55:27.176483Z",
     "start_time": "2025-03-31T21:55:27.171321Z"
    }
   },
   "source": [
    "print(\"--- DNA Sequence Operations ---\")\n",
    "dna_seq = Seq(\"ATGCTAGCTAGCTAGCTAGCTAGC\")\n",
    "print(\"Original DNA:\", dna_seq)\n",
    "print(\"Complement:\", dna_seq.complement())\n",
    "print(\"Reverse Complement:\", dna_seq.reverse_complement())\n",
    "print(\"GC Content:\", gc_fraction(dna_seq) * 100)"
   ],
   "outputs": [
    {
     "name": "stdout",
     "output_type": "stream",
     "text": [
      "--- DNA Sequence Operations ---\n",
      "Original DNA: ATGCTAGCTAGCTAGCTAGCTAGC\n",
      "Complement: TACGATCGATCGATCGATCGATCG\n",
      "Reverse Complement: GCTAGCTAGCTAGCTAGCTAGCAT\n",
      "GC Content: 50.0\n"
     ]
    }
   ],
   "execution_count": 2
  },
  {
   "cell_type": "markdown",
   "id": "7d79ca6f-5ac0-46c5-8105-7bc9ec49a265",
   "metadata": {},
   "source": [
    "## 2. Reading and Writing FASTA Files"
   ]
  },
  {
   "cell_type": "code",
   "id": "07dba8a2-b636-4e1a-8590-889c560a51c0",
   "metadata": {
    "ExecuteTime": {
     "end_time": "2025-03-31T21:55:27.410246Z",
     "start_time": "2025-03-31T21:55:27.396111Z"
    }
   },
   "source": [
    "print(\"\\n--- Reading FASTA File ---\")\n",
    "for record in SeqIO.parse(\"sampledata/example.fasta\", \"fasta\"):\n",
    "    print(\"ID:\", record.id)\n",
    "    print(\"Sequence:\", record.seq[:50], \"...\")  # Show first 50 bases\n",
    "    print(\"Sequence Length:\", len(record.seq))"
   ],
   "outputs": [
    {
     "name": "stdout",
     "output_type": "stream",
     "text": [
      "\n",
      "--- Reading FASTA File ---\n",
      "ID: seq1\n",
      "Sequence: ATGCGTACGTAGCTAGCTAGCTAGCTAGCTAGC ...\n",
      "Sequence Length: 33\n",
      "ID: seq2\n",
      "Sequence: GCTAGCTAGCTAGCATCGATCGATCGATCGATC ...\n",
      "Sequence Length: 33\n",
      "ID: seq3\n",
      "Sequence: TCGATCGATCGATCGATCGATCGATCGATCGAT ...\n",
      "Sequence Length: 33\n"
     ]
    }
   ],
   "execution_count": 3
  },
  {
   "cell_type": "markdown",
   "id": "c3676dd5-5bbe-4f6b-bc2c-1f0ae33e4a0b",
   "metadata": {},
   "source": [
    "## 3. Translating DNA to Protein"
   ]
  },
  {
   "cell_type": "code",
   "id": "6ac2b5a0-e4ad-4fbf-b1f3-82a768c19ac8",
   "metadata": {
    "ExecuteTime": {
     "end_time": "2025-03-31T21:55:27.463150Z",
     "start_time": "2025-03-31T21:55:27.455979Z"
    }
   },
   "source": [
    "print(\"\\n--- Translating DNA to Protein ---\")\n",
    "mrna_seq = dna_seq.transcribe()\n",
    "protein_seq = dna_seq.translate()\n",
    "print(\"mRNA Sequence:\", mrna_seq)\n",
    "print(\"Protein Sequence:\", protein_seq)"
   ],
   "outputs": [
    {
     "name": "stdout",
     "output_type": "stream",
     "text": [
      "\n",
      "--- Translating DNA to Protein ---\n",
      "mRNA Sequence: AUGCUAGCUAGCUAGCUAGCUAGC\n",
      "Protein Sequence: MLAS*LAS\n"
     ]
    }
   ],
   "execution_count": 4
  },
  {
   "cell_type": "markdown",
   "id": "52a5630d-48a5-426f-a13a-d6c2493ad1cd",
   "metadata": {},
   "source": [
    "## 4. Running a BLAST Search"
   ]
  },
  {
   "cell_type": "code",
   "id": "e8752503-2427-4855-8f66-42230114efd8",
   "metadata": {
    "ExecuteTime": {
     "end_time": "2025-03-31T21:56:29.244722Z",
     "start_time": "2025-03-31T21:55:27.574307Z"
    }
   },
   "source": [
    "print(\"\\n--- Running BLAST Search ---\")\n",
    "result_handle = NCBIWWW.qblast(\"blastn\", \"nt\", dna_seq)\n",
    "blast_record = NCBIXML.read(result_handle)\n",
    "for alignment in blast_record.alignments[:5]:  # Show top 5 hits\n",
    "    print(\"Alignment:\", alignment.title)\n",
    "    print(\"Length:\", alignment.length)"
   ],
   "outputs": [
    {
     "name": "stdout",
     "output_type": "stream",
     "text": [
      "\n",
      "--- Running BLAST Search ---\n"
     ]
    }
   ],
   "execution_count": 5
  },
  {
   "cell_type": "markdown",
   "id": "b80f1ac5-64fa-4fe4-952f-30b6410cca2a",
   "metadata": {},
   "source": [
    "## 5. Restriction Enzyme Analysis"
   ]
  },
  {
   "cell_type": "code",
   "id": "014ec89f-7940-4578-8e46-d549153c7060",
   "metadata": {
    "ExecuteTime": {
     "end_time": "2025-03-31T21:56:29.528095Z",
     "start_time": "2025-03-31T21:56:29.351876Z"
    }
   },
   "source": [
    "from Bio.Restriction import RestrictionBatch\n",
    "\n",
    "print(\"\\n--- Restriction Enzyme Analysis ---\")\n",
    "enzymes = RestrictionBatch([\"EcoRI\", \"BamHI\", \"HindIII\"])\n",
    "sites = enzymes.search(dna_seq)\n",
    "for enzyme, positions in sites.items():\n",
    "    print(f\"{enzyme} cuts at positions: {positions}\")"
   ],
   "outputs": [
    {
     "name": "stdout",
     "output_type": "stream",
     "text": [
      "\n",
      "--- Restriction Enzyme Analysis ---\n",
      "EcoRI cuts at positions: []\n",
      "BamHI cuts at positions: []\n",
      "HindIII cuts at positions: []\n"
     ]
    }
   ],
   "execution_count": 6
  },
  {
   "cell_type": "markdown",
   "id": "05365662-5132-4c10-a22f-7a7c931a0474",
   "metadata": {},
   "source": [
    "## 6. Multiple Sequence Alignment"
   ]
  },
  {
   "cell_type": "code",
   "id": "3121738e-80c7-4c4e-b9d0-f92cf4e73e75",
   "metadata": {
    "ExecuteTime": {
     "end_time": "2025-03-31T21:56:29.568843Z",
     "start_time": "2025-03-31T21:56:29.558975Z"
    }
   },
   "source": [
    "print(\"\\n--- Multiple Sequence Alignment ---\")\n",
    "alignment = MultipleSeqAlignment([\n",
    "    SeqIO.read(\"sampledata/seq1.fasta\", \"fasta\"),\n",
    "    SeqIO.read(\"sampledata/seq2.fasta\", \"fasta\"),\n",
    "    SeqIO.read(\"sampledata/seq3.fasta\", \"fasta\")\n",
    "])\n",
    "print(alignment)\n",
    "\n",
    "# Running ClustalW (example, requires ClustalW installed)\n",
    "# clustalw_cline = ClustalwCommandline(\"clustalw2\", infile=\"example.fasta\")\n",
    "# stdout, stderr = clustalw_cline()"
   ],
   "outputs": [
    {
     "name": "stdout",
     "output_type": "stream",
     "text": [
      "\n",
      "--- Multiple Sequence Alignment ---\n",
      "Alignment with 3 rows and 33 columns\n",
      "ATGCGTACGTAGCTAGCTAGCTAGCTAGCTAGC seq1\n",
      "GCTAGCTAGCTAGCATCGATCGATCGATCGATC seq2\n",
      "TCGATCGATCGATCGATCGATCGATCGATCGAT seq3\n"
     ]
    }
   ],
   "execution_count": 7
  },
  {
   "cell_type": "markdown",
   "id": "32582041-2ab0-4eba-b307-7432e0268039",
   "metadata": {},
   "source": [
    "## 7. Genomic Data Visualization"
   ]
  },
  {
   "cell_type": "code",
   "id": "574c03de-e04d-41d0-be0b-700f8e04f4c5",
   "metadata": {
    "ExecuteTime": {
     "end_time": "2025-03-31T21:56:29.882889Z",
     "start_time": "2025-03-31T21:56:29.611774Z"
    }
   },
   "source": [
    "print(\"\\n--- Genomic Data Visualization ---\")\n",
    "genes = ['Gene1', 'Gene2', 'Gene3', 'Gene4', 'Gene5']\n",
    "expression_levels = [23, 45, 12, 30, 18]\n",
    "plt.bar(genes, expression_levels, color=['blue', 'red', 'green', 'purple', 'orange'])\n",
    "plt.xlabel('Genes')\n",
    "plt.ylabel('Expression Level')\n",
    "plt.title('Gene Expression Levels')\n",
    "plt.show()"
   ],
   "outputs": [
    {
     "name": "stdout",
     "output_type": "stream",
     "text": [
      "\n",
      "--- Genomic Data Visualization ---\n"
     ]
    },
    {
     "data": {
      "text/plain": [
       "<Figure size 640x480 with 1 Axes>"
      ],
      "image/png": "[encoded data removed]"
     },
     "metadata": {},
     "output_type": "display_data"
    }
   ],
   "execution_count": 8
  },
  {
   "cell_type": "code",
   "id": "098be7a0-bb9b-4cb5-a911-fc3a7f8ed63e",
   "metadata": {
    "ExecuteTime": {
     "end_time": "2025-03-31T21:56:29.956437Z",
     "start_time": "2025-03-31T21:56:29.953518Z"
    }
   },
   "source": [],
   "outputs": [],
   "execution_count": null
  }
 ],
 "metadata": {
  "kernelspec": {
   "display_name": "Python 3 (ipykernel)",
   "language": "python",
   "name": "python3"
  },
  "language_info": {
   "codemirror_mode": {
    "name": "ipython",
    "version": 3
   },
   "file_extension": ".py",
   "mimetype": "text/x-python",
   "name": "python",
   "nbconvert_exporter": "python",
   "pygments_lexer": "ipython3",
   "version": "3.11.2"
  }
 },
 "nbformat": 4,
 "nbformat_minor": 5
}
