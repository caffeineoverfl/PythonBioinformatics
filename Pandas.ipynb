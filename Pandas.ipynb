{
 "cells": [
  {
   "cell_type": "markdown",
   "id": "d415d29f-6fcb-479e-b3b8-737a6f57b516",
   "metadata": {},
   "source": [
    "### Advanced Pandas Learning Guide"
   ]
  },
  {
   "cell_type": "code",
   "execution_count": 1,
   "id": "7fe27d99-d2fc-480b-908d-ad791b22f30e",
   "metadata": {},
   "outputs": [],
   "source": [
    "import pandas as pd\n",
    "import numpy as np"
   ]
  },
  {
   "cell_type": "markdown",
   "id": "602341b9-30a0-4dca-996e-6a572328a5e2",
   "metadata": {},
   "source": [
    "## 1. Creating and Exploring DataFrames"
   ]
  },
  {
   "cell_type": "code",
   "execution_count": 2,
   "id": "0ea18318-e36c-4ffb-bcc4-9c2fa3f897f3",
   "metadata": {},
   "outputs": [
    {
     "name": "stdout",
     "output_type": "stream",
     "text": [
      "--- Creating a DataFrame ---\n",
      "    Gene  Expression Level Mutation\n",
      "0  BRCA1              23.4      Yes\n",
      "1   TP53              45.2       No\n",
      "2    MYC              10.1      Yes\n",
      "3   EGFR              30.5       No\n",
      "4   VEGF              18.3      Yes\n"
     ]
    }
   ],
   "source": [
    "print(\"--- Creating a DataFrame ---\")\n",
    "data = {\n",
    "    \"Gene\": [\"BRCA1\", \"TP53\", \"MYC\", \"EGFR\", \"VEGF\"],\n",
    "    \"Expression Level\": [23.4, 45.2, 10.1, 30.5, 18.3],\n",
    "    \"Mutation\": [\"Yes\", \"No\", \"Yes\", \"No\", \"Yes\"]\n",
    "}\n",
    "df = pd.DataFrame(data)\n",
    "print(df)"
   ]
  },
  {
   "cell_type": "markdown",
   "id": "6d9a1982-b2df-42ae-a976-3c5fd65c3e07",
   "metadata": {},
   "source": [
    "## 2. Handling Missing Data"
   ]
  },
  {
   "cell_type": "code",
   "execution_count": 4,
   "id": "a391be7e-5b4f-429f-a82e-8dcfe277b553",
   "metadata": {},
   "outputs": [
    {
     "name": "stdout",
     "output_type": "stream",
     "text": [
      "\n",
      "--- Handling Missing Data ---\n",
      "DataFrame with Missing Value:\n",
      "     Gene  Expression Level Mutation\n",
      "0  BRCA1              23.4      Yes\n",
      "1   TP53              45.2       No\n",
      "2    MYC               NaN      Yes\n",
      "3   EGFR              30.5       No\n",
      "4   VEGF              18.3      Yes\n",
      "DataFrame after Filling Missing Value:\n",
      "     Gene  Expression Level Mutation\n",
      "0  BRCA1             23.40      Yes\n",
      "1   TP53             45.20       No\n",
      "2    MYC             29.35      Yes\n",
      "3   EGFR             30.50       No\n",
      "4   VEGF             18.30      Yes\n"
     ]
    }
   ],
   "source": [
    "print(\"\\n--- Handling Missing Data ---\")\n",
    "df.loc[2, \"Expression Level\"] = np.nan\n",
    "print(\"DataFrame with Missing Value:\\n\", df)\n",
    "df_filled = df.fillna(df[\"Expression Level\"].mean())\n",
    "print(\"DataFrame after Filling Missing Value:\\n\", df_filled)"
   ]
  },
  {
   "cell_type": "markdown",
   "id": "59e96cf9-136d-49a3-a57e-24d458079630",
   "metadata": {},
   "source": [
    "## 3. Filtering and Querying Data"
   ]
  },
  {
   "cell_type": "code",
   "execution_count": 5,
   "id": "6c82cd1b-a5d8-4813-bbe9-380b4269a002",
   "metadata": {},
   "outputs": [
    {
     "name": "stdout",
     "output_type": "stream",
     "text": [
      "\n",
      "--- Filtering Data ---\n",
      "Genes with High Expression:\n",
      "     Gene  Expression Level Mutation\n",
      "0  BRCA1              23.4      Yes\n",
      "1   TP53              45.2       No\n",
      "3   EGFR              30.5       No\n"
     ]
    }
   ],
   "source": [
    "print(\"\\n--- Filtering Data ---\")\n",
    "high_expression = df[df[\"Expression Level\"] > 20]\n",
    "print(\"Genes with High Expression:\\n\", high_expression)"
   ]
  },
  {
   "cell_type": "markdown",
   "id": "18d5404e-3bb7-48e8-abd8-0fe9b068de51",
   "metadata": {},
   "source": [
    "## 4. Grouping and Aggregation"
   ]
  },
  {
   "cell_type": "code",
   "execution_count": 6,
   "id": "ef09ad68-54a5-41f2-8ce0-afbb1801bec7",
   "metadata": {},
   "outputs": [
    {
     "name": "stdout",
     "output_type": "stream",
     "text": [
      "\n",
      "--- Grouping and Aggregation ---\n",
      "Mean Expression Level by Mutation Status:\n",
      " Mutation\n",
      "No     37.85\n",
      "Yes    20.85\n",
      "Name: Expression Level, dtype: float64\n"
     ]
    }
   ],
   "source": [
    "print(\"\\n--- Grouping and Aggregation ---\")\n",
    "grouped = df.groupby(\"Mutation\")[\"Expression Level\"].mean()\n",
    "print(\"Mean Expression Level by Mutation Status:\\n\", grouped)"
   ]
  },
  {
   "cell_type": "markdown",
   "id": "9607603e-4d20-4f9b-b760-acb76f45781b",
   "metadata": {},
   "source": [
    "## 5. Merging and Joining DataFrames"
   ]
  },
  {
   "cell_type": "code",
   "execution_count": 7,
   "id": "ffccab7d-aff0-482b-a6e4-6483ffd2d7f9",
   "metadata": {},
   "outputs": [
    {
     "name": "stdout",
     "output_type": "stream",
     "text": [
      "\n",
      "--- Merging DataFrames ---\n",
      "Merged DataFrame:\n",
      "     Gene  Expression Level Mutation Mutation Type\n",
      "0  BRCA1              23.4      Yes      Missense\n",
      "1   TP53              45.2       No      Nonsense\n",
      "2    MYC               NaN      Yes    Frameshift\n",
      "3   EGFR              30.5       No        Silent\n",
      "4   VEGF              18.3      Yes     Insertion\n"
     ]
    }
   ],
   "source": [
    "print(\"\\n--- Merging DataFrames ---\")\n",
    "mutation_info = pd.DataFrame({\n",
    "    \"Gene\": [\"BRCA1\", \"TP53\", \"MYC\", \"EGFR\", \"VEGF\"],\n",
    "    \"Mutation Type\": [\"Missense\", \"Nonsense\", \"Frameshift\", \"Silent\", \"Insertion\"]\n",
    "})\n",
    "merged_df = df.merge(mutation_info, on=\"Gene\", how=\"left\")\n",
    "print(\"Merged DataFrame:\\n\", merged_df)"
   ]
  },
  {
   "cell_type": "markdown",
   "id": "6a79a800-2ce5-47f6-a521-006626b79966",
   "metadata": {},
   "source": [
    "## 6. Applying Functions with Apply"
   ]
  },
  {
   "cell_type": "code",
   "execution_count": 9,
   "id": "7d42a9af-7722-48ed-ab95-732b3b0e7e71",
   "metadata": {},
   "outputs": [
    {
     "name": "stdout",
     "output_type": "stream",
     "text": [
      "\n",
      "--- Applying Functions ---\n",
      "DataFrame with Normalized Expression Levels:\n",
      "     Gene  Expression Level Mutation  Expression Normalized\n",
      "0  BRCA1              23.4      Yes               0.517699\n",
      "1   TP53              45.2       No               1.000000\n",
      "2    MYC               NaN      Yes                    NaN\n",
      "3   EGFR              30.5       No               0.674779\n",
      "4   VEGF              18.3      Yes               0.404867\n"
     ]
    }
   ],
   "source": [
    "print(\"\\n--- Applying Functions ---\")\n",
    "df[\"Expression Normalized\"] = df[\"Expression Level\"].apply(lambda x: x / df[\"Expression Level\"].max())\n",
    "print(\"DataFrame with Normalized Expression Levels:\\n\", df)"
   ]
  },
  {
   "cell_type": "markdown",
   "id": "75f6ee2d-88e3-4e7f-ab72-052eb1753a43",
   "metadata": {},
   "source": [
    "## 7. Bioinformatics Example: Analyzing Genomic Data"
   ]
  },
  {
   "cell_type": "code",
   "execution_count": 11,
   "id": "b8495cb5-e30f-4b92-a6bc-f76fd977963f",
   "metadata": {},
   "outputs": [
    {
     "name": "stdout",
     "output_type": "stream",
     "text": [
      "\n",
      "--- Bioinformatics Example: Analyzing Genomic Data ---\n",
      "Mean Expression by Chromosome:\n",
      " Chromosome\n",
      "1    15.60\n",
      "2    32.85\n",
      "3    32.10\n",
      "Name: Expression, dtype: float64\n"
     ]
    }
   ],
   "source": [
    "print(\"\\n--- Bioinformatics Example: Analyzing Genomic Data ---\")\n",
    "genomic_data = {\n",
    "    \"Sample\": [\"S1\", \"S2\", \"S3\", \"S4\", \"S5\"],\n",
    "    \"Chromosome\": [1, 2, 1, 3, 2],\n",
    "    \"Gene\": [\"BRCA1\", \"TP53\", \"MYC\", \"EGFR\", \"VEGF\"],\n",
    "    \"Mutation\": [\"Yes\", \"No\", \"Yes\", \"No\", \"Yes\"],\n",
    "    \"Expression\": [12.5, 40.2, 18.7, 32.1, 25.5]\n",
    "}\n",
    "genomic_df = pd.DataFrame(genomic_data)\n",
    "chromosome_summary = genomic_df.groupby(\"Chromosome\")[\"Expression\"].mean()\n",
    "print(\"Mean Expression by Chromosome:\\n\", chromosome_summary)"
   ]
  },
  {
   "cell_type": "code",
   "execution_count": null,
   "id": "399a3666-9cc0-43e0-aadf-c24c03ae07c9",
   "metadata": {},
   "outputs": [],
   "source": []
  }
 ],
 "metadata": {
  "kernelspec": {
   "display_name": "Python 3 (ipykernel)",
   "language": "python",
   "name": "python3"
  },
  "language_info": {
   "codemirror_mode": {
    "name": "ipython",
    "version": 3
   },
   "file_extension": ".py",
   "mimetype": "text/x-python",
   "name": "python",
   "nbconvert_exporter": "python",
   "pygments_lexer": "ipython3",
   "version": "3.11.2"
  }
 },
 "nbformat": 4,
 "nbformat_minor": 5
}
