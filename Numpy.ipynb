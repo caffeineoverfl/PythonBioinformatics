{
 "cells": [
  {
   "cell_type": "markdown",
   "id": "40a0dd9b-6bf6-4a82-a468-e845867879dc",
   "metadata": {},
   "source": [
    "### Advanced NumPy Learning Guide"
   ]
  },
  {
   "cell_type": "code",
   "execution_count": 1,
   "id": "21522616-0007-412e-9732-31bb617c38f8",
   "metadata": {},
   "outputs": [],
   "source": [
    "import numpy as np"
   ]
  },
  {
   "cell_type": "markdown",
   "id": "310e50f5-4253-4ce0-ae8f-02c221cb7b4c",
   "metadata": {},
   "source": [
    "## 1. Creating Advanced NumPy Arrays"
   ]
  },
  {
   "cell_type": "code",
   "execution_count": 2,
   "id": "337bfbc2-ba46-4a2c-ad94-cd95d970e146",
   "metadata": {},
   "outputs": [
    {
     "name": "stdout",
     "output_type": "stream",
     "text": [
      "--- Creating Advanced Arrays ---\n",
      "Arange Array:\n",
      " [[ 1  2  3  4  5]\n",
      " [ 6  7  8  9 10]\n",
      " [11 12 13 14 15]\n",
      " [16 17 18 19 20]]\n",
      "Linspace Array:\n",
      " [0.         0.11111111 0.22222222 0.33333333 0.44444444 0.55555556\n",
      " 0.66666667 0.77777778 0.88888889 1.        ]\n",
      "Random Normal Array:\n",
      " [[50.61013692 70.27199355 52.0881686 ]\n",
      " [50.22718697 50.38494729 39.04191554]\n",
      " [58.45813927 48.78848297 65.01894096]]\n"
     ]
    }
   ],
   "source": [
    "print(\"--- Creating Advanced Arrays ---\")\n",
    "arr1 = np.arange(1, 21).reshape(4, 5)\n",
    "arr2 = np.linspace(0, 1, 10)\n",
    "arr3 = np.random.normal(loc=50, scale=10, size=(3,3))\n",
    "print(\"Arange Array:\\n\", arr1)\n",
    "print(\"Linspace Array:\\n\", arr2)\n",
    "print(\"Random Normal Array:\\n\", arr3)"
   ]
  },
  {
   "cell_type": "markdown",
   "id": "8200180e-c8c5-44bc-8175-803b7fd6730f",
   "metadata": {},
   "source": [
    "## 2. Indexing & Slicing"
   ]
  },
  {
   "cell_type": "code",
   "execution_count": 3,
   "id": "58e81ab8-cb4b-4e54-bb83-935a6e1c244c",
   "metadata": {},
   "outputs": [
    {
     "name": "stdout",
     "output_type": "stream",
     "text": [
      "\n",
      "--- Indexing & Slicing ---\n",
      "Element at (2,3): 14\n",
      "First row: [1 2 3 4 5]\n",
      "Last column: [ 5 10 15 20]\n"
     ]
    }
   ],
   "source": [
    "print(\"\\n--- Indexing & Slicing ---\")\n",
    "print(\"Element at (2,3):\", arr1[2,3])\n",
    "print(\"First row:\", arr1[0, :])\n",
    "print(\"Last column:\", arr1[:, -1])"
   ]
  },
  {
   "cell_type": "markdown",
   "id": "cc5652b8-7183-4701-bb85-6b2b9b2fddcf",
   "metadata": {},
   "source": [
    "## 3. Broadcasting & Vectorized Operations"
   ]
  },
  {
   "cell_type": "code",
   "execution_count": 4,
   "id": "4d09ddee-5c49-43d6-ad11-9a7492aa40ab",
   "metadata": {},
   "outputs": [
    {
     "name": "stdout",
     "output_type": "stream",
     "text": [
      "\n",
      "--- Broadcasting & Vectorized Operations ---\n",
      "Element-wise Multiplication:\n",
      " [[1 2 3]\n",
      " [2 4 6]\n",
      " [3 6 9]]\n",
      "Exponential of each element:\n",
      " [ 2.71828183  7.3890561  20.08553692]\n"
     ]
    }
   ],
   "source": [
    "print(\"\\n--- Broadcasting & Vectorized Operations ---\")\n",
    "arr4 = np.array([1, 2, 3])\n",
    "arr5 = np.array([[1], [2], [3]])\n",
    "print(\"Element-wise Multiplication:\\n\", arr4 * arr5)\n",
    "print(\"Exponential of each element:\\n\", np.exp(arr4))"
   ]
  },
  {
   "cell_type": "markdown",
   "id": "d6e4a17f-000c-4b6e-9f34-dc5db1877696",
   "metadata": {},
   "source": [
    "## 4. Advanced Statistical Functions"
   ]
  },
  {
   "cell_type": "code",
   "execution_count": 5,
   "id": "2481298a-cff0-415a-ad31-cb38411e6cff",
   "metadata": {},
   "outputs": [
    {
     "name": "stdout",
     "output_type": "stream",
     "text": [
      "\n",
      "--- Advanced Statistics ---\n",
      "Data:\n",
      " [[37 65 56 83 63]\n",
      " [ 4 79 11 79 40]\n",
      " [61 69 70  8 80]\n",
      " [ 2 17 76  1 99]\n",
      " [95 90 21 28 40]]\n",
      "Mean: [60.8 42.6 57.6 39.  54.8]\n",
      "Standard Deviation: [35.25563785 25.04396135 26.16409754 34.81034329 22.9486383 ]\n",
      "Median: 61.0\n",
      "Percentile (75th): 79.0\n"
     ]
    }
   ],
   "source": [
    "print(\"\\n--- Advanced Statistics ---\")\n",
    "data = np.random.randint(1, 100, size=(5, 5))\n",
    "print(\"Data:\\n\", data)\n",
    "print(\"Mean:\", np.mean(data, axis=1))\n",
    "print(\"Standard Deviation:\", np.std(data, axis=0))\n",
    "print(\"Median:\", np.median(data))\n",
    "print(\"Percentile (75th):\", np.percentile(data, 75))"
   ]
  },
  {
   "cell_type": "markdown",
   "id": "d86f325c-aa20-484d-ae74-64683710c41f",
   "metadata": {},
   "source": [
    "## 5. Linear Algebra with NumPy"
   ]
  },
  {
   "cell_type": "code",
   "execution_count": 6,
   "id": "06787ca0-918d-47b3-af4a-354b8763e0fb",
   "metadata": {},
   "outputs": [
    {
     "name": "stdout",
     "output_type": "stream",
     "text": [
      "\n",
      "--- Linear Algebra ---\n",
      "Matrix Multiplication:\n",
      " [[11 16]\n",
      " [19 28]]\n",
      "Determinant of A: -2.0\n",
      "Eigenvalues of A: [-0.27491722  7.27491722]\n"
     ]
    }
   ],
   "source": [
    "print(\"\\n--- Linear Algebra ---\")\n",
    "matrix_a = np.array([[2, 3], [4, 5]])\n",
    "matrix_b = np.array([[1, 2], [3, 4]])\n",
    "print(\"Matrix Multiplication:\\n\", np.matmul(matrix_a, matrix_b))\n",
    "print(\"Determinant of A:\", np.linalg.det(matrix_a))\n",
    "print(\"Eigenvalues of A:\", np.linalg.eig(matrix_a)[0])"
   ]
  },
  {
   "cell_type": "markdown",
   "id": "05af8d3a-f585-4e4c-a97d-1e85df72987d",
   "metadata": {},
   "source": [
    "## 6. Performance Optimization"
   ]
  },
  {
   "cell_type": "code",
   "execution_count": 7,
   "id": "a998009e-e2dd-4526-ac77-6d2ec3fc10d2",
   "metadata": {},
   "outputs": [
    {
     "name": "stdout",
     "output_type": "stream",
     "text": [
      "\n",
      "--- Performance Optimization ---\n",
      "644 μs ± 115 μs per loop (mean ± std. dev. of 7 runs, 1,000 loops each)\n",
      "88.4 ms ± 4.76 ms per loop (mean ± std. dev. of 7 runs, 10 loops each)\n"
     ]
    }
   ],
   "source": [
    "print(\"\\n--- Performance Optimization ---\")\n",
    "arr_large = np.random.rand(1000000)\n",
    "%timeit np.sum(arr_large)  # Optimized NumPy function\n",
    "%timeit sum(arr_large)  # Slower Python loop"
   ]
  },
  {
   "cell_type": "markdown",
   "id": "7b893862-c820-4070-a7a7-ed2c67af4c0b",
   "metadata": {},
   "source": [
    "## 7. Applying NumPy in Bioinformatics"
   ]
  },
  {
   "cell_type": "code",
   "execution_count": 8,
   "id": "4f24b5bf-225f-4649-bd95-b76afdbe39d6",
   "metadata": {},
   "outputs": [
    {
     "name": "stdout",
     "output_type": "stream",
     "text": [
      "\n",
      "--- NumPy in Bioinformatics ---\n",
      "DNA GC Content: [46 41 51 33 53 42 42 49 59 45]\n",
      "GC Content Mean: 46.1\n",
      "Sorted GC Content: [33 41 42 42 45 46 49 51 53 59]\n"
     ]
    }
   ],
   "source": [
    "print(\"\\n--- NumPy in Bioinformatics ---\")\n",
    "dna_gc_content = np.random.randint(30, 60, size=10)\n",
    "print(\"DNA GC Content:\", dna_gc_content)\n",
    "print(\"GC Content Mean:\", np.mean(dna_gc_content))\n",
    "print(\"Sorted GC Content:\", np.sort(dna_gc_content))"
   ]
  },
  {
   "cell_type": "code",
   "execution_count": null,
   "id": "16c0c59f-149e-440b-b105-924acf663d6b",
   "metadata": {},
   "outputs": [],
   "source": []
  }
 ],
 "metadata": {
  "kernelspec": {
   "display_name": "Python 3 (ipykernel)",
   "language": "python",
   "name": "python3"
  },
  "language_info": {
   "codemirror_mode": {
    "name": "ipython",
    "version": 3
   },
   "file_extension": ".py",
   "mimetype": "text/x-python",
   "name": "python",
   "nbconvert_exporter": "python",
   "pygments_lexer": "ipython3",
   "version": "3.11.2"
  }
 },
 "nbformat": 4,
 "nbformat_minor": 5
}
