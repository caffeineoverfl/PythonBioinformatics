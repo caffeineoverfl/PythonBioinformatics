{
 "cells": [
  {
   "cell_type": "markdown",
   "id": "5fc0c0fb-c2cf-4741-b0c1-71b029ff821d",
   "metadata": {},
   "source": [
    "### Bioinformatics Python Learning Guide"
   ]
  },
  {
   "cell_type": "code",
   "execution_count": 5,
   "id": "7f842ed6-0083-4d62-8845-39fd39574c4b",
   "metadata": {},
   "outputs": [],
   "source": [
    "# Import necessary libraries\n",
    "import numpy as np\n",
    "import pandas as pd\n",
    "import scipy.stats as stats\n",
    "import matplotlib.pyplot as plt\n",
    "from sklearn.linear_model import LinearRegression\n",
    "from Bio import SeqIO\n",
    "from Bio.Seq import Seq"
   ]
  },
  {
   "cell_type": "markdown",
   "id": "1c0d47a3-2f41-4fd6-a9d1-a268870a5909",
   "metadata": {},
   "source": [
    "## 1. Biopython - Working with DNA Sequences"
   ]
  },
  {
   "cell_type": "code",
   "execution_count": 6,
   "id": "8abe2654-dbe8-4a5d-8431-68653082743e",
   "metadata": {},
   "outputs": [
    {
     "name": "stdout",
     "output_type": "stream",
     "text": [
      "--- Biopython Example ---\n",
      "DNA Sequence: ATGCTAGCTAGCTAGCTAGCTAGC\n",
      "Complement: TACGATCGATCGATCGATCGATCG\n",
      "Reverse Complement: GCTAGCTAGCTAGCTAGCTAGCAT\n"
     ]
    }
   ],
   "source": [
    "print(\"--- Biopython Example ---\")\n",
    "dna_seq = Seq(\"ATGCTAGCTAGCTAGCTAGCTAGC\")\n",
    "print(\"DNA Sequence:\", dna_seq)\n",
    "print(\"Complement:\", dna_seq.complement())\n",
    "print(\"Reverse Complement:\", dna_seq.reverse_complement())"
   ]
  },
  {
   "cell_type": "markdown",
   "id": "a8540443-a133-4b40-99c7-f229c6b955d5",
   "metadata": {},
   "source": [
    "## 2. NumPy - Numerical Operations in Biology"
   ]
  },
  {
   "cell_type": "code",
   "execution_count": 7,
   "id": "3ca3ec7f-0165-4577-8f9e-6936a8f8e304",
   "metadata": {},
   "outputs": [
    {
     "name": "stdout",
     "output_type": "stream",
     "text": [
      "\n",
      "--- NumPy Example ---\n",
      "Mean GC Content: 42.4\n"
     ]
    }
   ],
   "source": [
    "print(\"\\n--- NumPy Example ---\")\n",
    "dna_gc_content = np.array([40, 35, 50, 45, 42])\n",
    "print(\"Mean GC Content:\", np.mean(dna_gc_content))"
   ]
  },
  {
   "cell_type": "markdown",
   "id": "a4bb6b2d-c304-4e18-9f08-2727c67cd1c3",
   "metadata": {},
   "source": [
    "## 3. Pandas - Handling Bioinformatics Data"
   ]
  },
  {
   "cell_type": "code",
   "execution_count": 8,
   "id": "0b578d92-6bc2-4522-bdc6-3c4568daac37",
   "metadata": {},
   "outputs": [
    {
     "name": "stdout",
     "output_type": "stream",
     "text": [
      "\n",
      "--- Pandas Example ---\n",
      "    Gene  Expression Level\n",
      "0  BRCA1              23.4\n",
      "1   TP53              45.2\n",
      "2    MYC              10.1\n"
     ]
    }
   ],
   "source": [
    "print(\"\\n--- Pandas Example ---\")\n",
    "data = {\"Gene\": [\"BRCA1\", \"TP53\", \"MYC\"], \"Expression Level\": [23.4, 45.2, 10.1]}\n",
    "df = pd.DataFrame(data)\n",
    "print(df)"
   ]
  },
  {
   "cell_type": "markdown",
   "id": "c92bb307-c730-4e8c-b0c2-3ea1cc9c783a",
   "metadata": {},
   "source": [
    "## 4. SciPy - Statistical Analysis in Bioinformatics"
   ]
  },
  {
   "cell_type": "code",
   "execution_count": 9,
   "id": "f1324eb1-6182-40d9-863b-a4134a632a4f",
   "metadata": {},
   "outputs": [
    {
     "name": "stdout",
     "output_type": "stream",
     "text": [
      "\n",
      "--- SciPy Example ---\n",
      "T-Test p-value: 0.20963032458086786\n"
     ]
    }
   ],
   "source": [
    "print(\"\\n--- SciPy Example ---\")\n",
    "sample1 = np.random.normal(50, 5, 100)\n",
    "sample2 = np.random.normal(52, 5, 100)\n",
    "t_stat, p_value = stats.ttest_ind(sample1, sample2)\n",
    "print(\"T-Test p-value:\", p_value)"
   ]
  },
  {
   "cell_type": "markdown",
   "id": "8d0845be-1e1c-488d-a107-954d78f3e5df",
   "metadata": {},
   "source": [
    "## 5. Matplotlib - Visualizing Genomic Data"
   ]
  },
  {
   "cell_type": "code",
   "execution_count": 10,
   "id": "36ee4723-6b78-48d0-ac13-8e7abf3fbb1e",
   "metadata": {},
   "outputs": [
    {
     "name": "stdout",
     "output_type": "stream",
     "text": [
      "\n",
      "--- Matplotlib Example ---\n"
     ]
    },
    {
     "data": {
      "image/png": "[encoded data removed]",
      "text/plain": [
       "<Figure size 640x480 with 1 Axes>"
      ]
     },
     "metadata": {},
     "output_type": "display_data"
    }
   ],
   "source": [
    "print(\"\\n--- Matplotlib Example ---\")\n",
    "genes = [\"BRCA1\", \"TP53\", \"MYC\"]\n",
    "expression = [23.4, 45.2, 10.1]\n",
    "plt.bar(genes, expression, color=['blue', 'red', 'green'])\n",
    "plt.xlabel(\"Genes\")\n",
    "plt.ylabel(\"Expression Level\")\n",
    "plt.title(\"Gene Expression Levels\")\n",
    "plt.show()"
   ]
  },
  {
   "cell_type": "markdown",
   "id": "932e84e3-5b44-4f0c-be2b-42f7f3eee1d3",
   "metadata": {},
   "source": [
    "## 6. Scikit-Learn - Simple Machine Learning in Bioinformatics"
   ]
  },
  {
   "cell_type": "code",
   "execution_count": 11,
   "id": "8627dfa1-5714-4d1b-9dbc-7c0b7a20f1ee",
   "metadata": {},
   "outputs": [
    {
     "name": "stdout",
     "output_type": "stream",
     "text": [
      "\n",
      "--- Scikit-Learn Example ---\n",
      "Predicted Value for Input 6: 12.0\n"
     ]
    }
   ],
   "source": [
    "print(\"\\n--- Scikit-Learn Example ---\")\n",
    "X = np.array([[1], [2], [3], [4], [5]])  # Feature (e.g., gene expression levels)\n",
    "y = np.array([2, 4, 6, 8, 10])  # Target (e.g., disease severity)\n",
    "model = LinearRegression()\n",
    "model.fit(X, y)\n",
    "predicted = model.predict([[6]])\n",
    "print(\"Predicted Value for Input 6:\", predicted[0])"
   ]
  },
  {
   "cell_type": "code",
   "execution_count": null,
   "id": "d15f158c-98cc-4669-aa2d-25d6c22053e3",
   "metadata": {},
   "outputs": [],
   "source": []
  }
 ],
 "metadata": {
  "kernelspec": {
   "display_name": "Python 3 (ipykernel)",
   "language": "python",
   "name": "python3"
  },
  "language_info": {
   "codemirror_mode": {
    "name": "ipython",
    "version": 3
   },
   "file_extension": ".py",
   "mimetype": "text/x-python",
   "name": "python",
   "nbconvert_exporter": "python",
   "pygments_lexer": "ipython3",
   "version": "3.11.2"
  }
 },
 "nbformat": 4,
 "nbformat_minor": 5
}
